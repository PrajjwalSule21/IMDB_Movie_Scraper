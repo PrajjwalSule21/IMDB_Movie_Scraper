{
 "cells": [
  {
   "cell_type": "markdown",
   "metadata": {},
   "source": [
    "#### This is Scraper for IMBD movie site.\n",
    "`With the help of this scraper you can scrape the movie data easily.`\n",
    "#### How to use:\n",
    "* Step-1: `Go to IMDB movie site`\n",
    "* Step-2: `Go to the menu` \n",
    "* Step-3: `Select the \"Browse Movie by Genre\" option`\n",
    "* Step-4: `Select your favorite genre` (comdey as an example)\n",
    "* Step-5: `Copy the link of the opened page`\n",
    "* Step-6: `Give that link in the url variable`\n",
    "* Step-7: `Change the file name, according to your prefrence.`\n",
    "* Step-8: `Execute the Program....`"
   ]
  },
  {
   "cell_type": "code",
   "execution_count": 1,
   "metadata": {},
   "outputs": [],
   "source": [
    "import requests\n",
    "from bs4 import BeautifulSoup\n",
    "from csv import writer "
   ]
  },
  {
   "cell_type": "code",
   "execution_count": 2,
   "metadata": {},
   "outputs": [],
   "source": [
    "# you have to give the url\n",
    "url = \"https://www.imdb.com/search/title/?genres=comedy&explore=title_type,genres&pf_rd_m=A2FGELUUNOQJNL&pf_rd_p=3396781f-d87f-4fac-8694-c56ce6f490fe&pf_rd_r=AQEARP5P1C1YP3SVQTQ0&pf_rd_s=center-1&pf_rd_t=15051&pf_rd_i=genre&ref_=ft_gnr_pr1_i_1\"\n",
    "# change the name of file\n",
    "name_of_file = 'IMDB_comedy_movies_21.csv'"
   ]
  },
  {
   "cell_type": "code",
   "execution_count": 3,
   "metadata": {},
   "outputs": [],
   "source": [
    "page = requests.get(url)\n",
    "page.raise_for_status()\n",
    "soup = BeautifulSoup(page.content, \"html.parser\")\n",
    "movies = soup.find('div', class_ =\"lister-list\").find_all('div', class_='lister-item mode-advanced')"
   ]
  },
  {
   "cell_type": "code",
   "execution_count": 4,
   "metadata": {},
   "outputs": [],
   "source": [
    "with open(name_of_file, 'w', encoding='utf8', newline='') as f:\n",
    "    thewriter = writer(f)\n",
    "    header = ['Movie Name', 'Movie Year', 'Movie Genre', 'Certificate', 'Runtime', 'Rating', 'Votes']\n",
    "    thewriter.writerow(header)\n",
    "    for movie in movies:\n",
    "            name = movie.find('h3', class_=\"lister-item-header\").a.text\n",
    "            year = movie.find('span', class_=\"lister-item-year text-muted unbold\").text.strip('()')\n",
    "            genre = movie.find('span', class_='genre').text.replace('\\n', '').strip(\" \")\n",
    "            try:\n",
    "                certificate = movie.find('span', class_='certificate').text\n",
    "            except:\n",
    "                pass\n",
    "            try:\n",
    "                runtime = movie.find('span', class_='runtime').text\n",
    "            except:\n",
    "                pass\n",
    "            try:\n",
    "                rating = movie.find('div', class_='inline-block ratings-imdb-rating').strong.text\n",
    "            except:\n",
    "                pass\n",
    "            try:\n",
    "                votes = movie.find('p', class_='sort-num_votes-visible').text.replace('\\n', '')[6:]\n",
    "            except:\n",
    "                pass\n",
    "\n",
    "            info = [name, year, genre, certificate, runtime, rating, votes]\n",
    "            thewriter.writerow(info)\n",
    "    f.close()"
   ]
  }
 ],
 "metadata": {
  "kernelspec": {
   "display_name": "Python 3",
   "language": "python",
   "name": "python3"
  },
  "language_info": {
   "codemirror_mode": {
    "name": "ipython",
    "version": 3
   },
   "file_extension": ".py",
   "mimetype": "text/x-python",
   "name": "python",
   "nbconvert_exporter": "python",
   "pygments_lexer": "ipython3",
   "version": "3.7.4"
  }
 },
 "nbformat": 4,
 "nbformat_minor": 4
}
